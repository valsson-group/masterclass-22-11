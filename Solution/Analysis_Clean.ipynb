{
 "cells": [
  {
   "cell_type": "code",
   "execution_count": null,
   "id": "c80ab44d",
   "metadata": {},
   "outputs": [],
   "source": [
    "import numpy as np\n",
    "import matplotlib.pyplot as plt\n",
    "import plumed\n",
    "import os"
   ]
  },
  {
   "cell_type": "code",
   "execution_count": null,
   "id": "37eb25f0",
   "metadata": {},
   "outputs": [],
   "source": [
    "plt.rcParams['figure.dpi'] = 200"
   ]
  },
  {
   "cell_type": "code",
   "execution_count": null,
   "id": "0a2cc5a5",
   "metadata": {},
   "outputs": [],
   "source": [
    "home_dir=os.getcwd()\n",
    "print(home_dir)"
   ]
  },
  {
   "cell_type": "code",
   "execution_count": null,
   "id": "5b784e2a",
   "metadata": {},
   "outputs": [],
   "source": [
    "# kB*T at 300 K in kJ/mol\n",
    "kBT=2.494353"
   ]
  },
  {
   "cell_type": "markdown",
   "id": "a514669e",
   "metadata": {},
   "source": [
    "## Exercise 1 - Biasing with one CV\n",
    "It is assumed that exercise has already been run."
   ]
  },
  {
   "cell_type": "markdown",
   "id": "2e366741",
   "metadata": {},
   "source": [
    "### Time evolution of the CVs"
   ]
  },
  {
   "cell_type": "markdown",
   "id": "99cb8add",
   "metadata": {},
   "source": [
    "#### Distance CV"
   ]
  },
  {
   "cell_type": "code",
   "execution_count": null,
   "id": "53837ad1",
   "metadata": {},
   "outputs": [],
   "source": [
    "colvar_data = np.loadtxt(\"./Exercise-1/colvar.data\")\n",
    "time = colvar_data[:,0]\n",
    "distance = colvar_data[:,1]\n",
    "coord = colvar_data[:,2]\n",
    "# the colvar file is outputted every 0.25 ps, only plot every 1.0 ps\n",
    "plt.plot(time[::4],distance[::4],'-')\n",
    "plt.xlabel(\"Time [ps]\")\n",
    "plt.ylabel(\"Na-Cl distance [nm]\")\n",
    "plt.ylim([0.2,0.7])"
   ]
  },
  {
   "cell_type": "markdown",
   "id": "bd028ff7",
   "metadata": {},
   "source": [
    "As we can see, the biased distance CV is diffusive during the biased simulation"
   ]
  },
  {
   "cell_type": "markdown",
   "id": "a2e9b89e",
   "metadata": {},
   "source": [
    "#### Solvation of the Na atom (coordination number)"
   ]
  },
  {
   "cell_type": "code",
   "execution_count": null,
   "id": "f6b05966",
   "metadata": {},
   "outputs": [],
   "source": [
    "# the colvar file is outputted every 0.25 ps, only plot every 1.0 ps\n",
    "plt.plot(time[::4],coord[::4],'-')\n",
    "plt.xlabel(\"Time [ps]\")\n",
    "plt.ylabel(\"Solvation of Na\")"
   ]
  },
  {
   "cell_type": "markdown",
   "id": "790b1e14",
   "metadata": {},
   "source": [
    "#### Coupling between distance and solvation CV"
   ]
  },
  {
   "cell_type": "code",
   "execution_count": null,
   "id": "7abaa6a9",
   "metadata": {},
   "outputs": [],
   "source": [
    "# the colvar file is outputted every 0.25 ps, only plot every 1.0 ps\n",
    "plt.plot(distance[::4],coord[::4],'.')\n",
    "plt.xlabel(\"Na-Cl distance [nm]\")\n",
    "plt.ylabel(\"Solvation of Na\")"
   ]
  },
  {
   "cell_type": "markdown",
   "id": "9c7ee42d",
   "metadata": {},
   "source": [
    "### Time evoluation of the coeffients"
   ]
  },
  {
   "cell_type": "code",
   "execution_count": null,
   "id": "c4848f6d",
   "metadata": {},
   "outputs": [],
   "source": [
    "%%bash\n",
    "# Extract the time series of the coefficents\n",
    "cd Exercise-1/\n",
    "for i in `seq 25`\n",
    "do\n",
    "  ./ExtractCoeff.sh ${i} > coeff.${i}.data\n",
    "done  "
   ]
  },
  {
   "cell_type": "code",
   "execution_count": null,
   "id": "62ec47e2",
   "metadata": {},
   "outputs": [],
   "source": [
    "for i in range(1,26):\n",
    "    coeff_data = np.loadtxt(\"./Exercise-1/coeff.{0}.data\".format(i))\n",
    "    plt.plot(coeff_data[:,1],label=\"Average Coeff\")\n",
    "    plt.plot(coeff_data[:,2],label=\"Instantaneous Coeff\")\n",
    "    plt.ylabel(\"Coefficent\".format(i))\n",
    "    plt.legend()\n",
    "    plt.title(\"Coefficent {0}\".format(i))\n",
    "    plt.show()"
   ]
  },
  {
   "cell_type": "markdown",
   "id": "211a2a3c",
   "metadata": {},
   "source": [
    "### Convergence of the FES"
   ]
  },
  {
   "cell_type": "code",
   "execution_count": null,
   "id": "eecd0dec",
   "metadata": {},
   "outputs": [],
   "source": [
    "# Each iteration is 1 ps\n",
    "for iter in range(500,4001,500):\n",
    "    fes_data = np.loadtxt(\"./Exercise-1/fes.ves.iter-{0}.data\".format(iter))\n",
    "    plt.plot(fes_data[:,0],fes_data[:,1]/kBT,label=\"{0} ps\".format(iter))\n",
    "    plt.xlabel(\"Na-Cl distance [nm]\")\n",
    "    plt.ylabel(\"Free Energy [kBT]\")\n",
    "    plt.title(\"Free Energy Surface\")\n",
    "    plt.legend()\n",
    "    plt.ylim([0,22])"
   ]
  },
  {
   "cell_type": "code",
   "execution_count": null,
   "id": "1acdff23",
   "metadata": {},
   "outputs": [],
   "source": [
    "# Each iteration is 1 ps\n",
    "for iter in range(3000,4001,100):\n",
    "    fes_data = np.loadtxt(\"./Exercise-1/fes.ves.iter-{0}.data\".format(iter))\n",
    "    plt.plot(fes_data[:,0],fes_data[:,1]/kBT,label=\"{0} ps\".format(iter))\n",
    "    plt.xlabel(\"Na-Cl distance [nm]\")\n",
    "    plt.ylabel(\"Free Energy [kBT]\")\n",
    "    plt.legend()\n",
    "    plt.title(\"Free Energy Surface\")\n",
    "    plt.ylim([0,10])"
   ]
  },
  {
   "cell_type": "markdown",
   "id": "dbda4f4d",
   "metadata": {},
   "source": [
    "### Convergence of free energy difference"
   ]
  },
  {
   "cell_type": "code",
   "execution_count": null,
   "id": "bf35785b",
   "metadata": {},
   "outputs": [],
   "source": [
    "last_iter=4000\n",
    "fes_data = np.loadtxt(\"./Exercise-1/fes.ves.iter-{0}.data\".format(last_iter))\n",
    "#plt.plot(fes_data[:,0],fes_data[:,1]/kBT)\n",
    "plt.plot(fes_data[:,0],np.exp(-fes_data[:,1]/kBT))\n",
    "plt.xlabel(\"Na-Cl distance [nm]\")\n",
    "plt.ylabel(\"Probability Distribution\")\n",
    "plt.title(\"Probability Distribution\")\n",
    "plt.ylim([0,1.1])\n",
    "barrier_location=0.36\n",
    "plt.axvspan(0.2,barrier_location,alpha=0.2,color='orange')\n",
    "plt.axvspan(barrier_location,0.7,alpha=0.2,color='green')"
   ]
  },
  {
   "cell_type": "code",
   "execution_count": null,
   "id": "32f425d2",
   "metadata": {},
   "outputs": [],
   "source": [
    "def calc_free_energy_difference(fes_file):\n",
    "    barrier_location=0.36\n",
    "    fes_data = np.loadtxt(fes_file)\n",
    "    distance = fes_data[:,0]\n",
    "    fes = fes_data[:,1]\n",
    "    prob = np.exp(-fes/kBT)\n",
    "    prob_A = 0.0\n",
    "    prob_B = 0.0\n",
    "    for i in range(prob.size):\n",
    "        if(distance[i]<barrier_location): \n",
    "            prob_A += prob[i]\n",
    "        if(distance[i]>barrier_location): \n",
    "            prob_B += prob[i]\n",
    "    free_energy_difference = -np.log(prob_A/prob_B)\n",
    "    return free_energy_difference"
   ]
  },
  {
   "cell_type": "code",
   "execution_count": null,
   "id": "68be4772",
   "metadata": {},
   "outputs": [],
   "source": [
    "iteration_ex1=[]\n",
    "free_energy_difference_ex1=[]\n",
    "\n",
    "for iter in range(100,4001,100):\n",
    "    iteration_ex1.append(iter)\n",
    "    fes_filename=\"./Exercise-1/fes.ves.iter-{0}.data\".format(iter)\n",
    "    fe_diff = calc_free_energy_difference(fes_filename)\n",
    "    free_energy_difference_ex1.append(fe_diff)\n",
    "\n",
    "plt.plot(iteration_ex1,free_energy_difference_ex1)\n",
    "plt.xlabel(\"Time [ps]\")\n",
    "plt.ylabel(\"Free Energy Difference [kBT]\")\n",
    "plt.title(\"Free Energy Difference\")\n",
    "plt.ylim([0.0,1.0])"
   ]
  },
  {
   "cell_type": "markdown",
   "id": "0b697487",
   "metadata": {},
   "source": [
    "### Convergence of the bias potential and target distribution"
   ]
  },
  {
   "cell_type": "code",
   "execution_count": null,
   "id": "2c55b7b4",
   "metadata": {},
   "outputs": [],
   "source": [
    "# Each iteration is 1 ps\n",
    "for iter in range(1000,4001,1000):\n",
    "    bias_data = np.loadtxt(\"./Exercise-1/bias.ves.iter-{0}.data\".format(iter))\n",
    "    plt.plot(bias_data[:,0],bias_data[:,1]/kBT,label=\"{0} ps\".format(iter))\n",
    "    plt.xlabel(\"Na-Cl distance [nm]\")\n",
    "    plt.ylabel(\"Bias [kBT]\")\n",
    "    plt.legend()\n",
    "    plt.title(\"Bias Potential\")\n",
    "    # plt.ylim([0,22])"
   ]
  },
  {
   "cell_type": "code",
   "execution_count": null,
   "id": "c11e96ac",
   "metadata": {},
   "outputs": [],
   "source": [
    "# Each iteration is 1 ps\n",
    "for iter in range(1000,4001,1000):\n",
    "    bias_data = np.loadtxt(\"./Exercise-1/targetdist.ves.iter-{0}.data\".format(iter))\n",
    "    plt.plot(bias_data[:,0],bias_data[:,1],label=\"{0} ps\".format(iter))\n",
    "    plt.xlabel(\"Na-Cl distance [nm]\")\n",
    "    plt.ylabel(\"Target Distribution\")\n",
    "    plt.legend()\n",
    "    plt.title(\"Target Distribution\")"
   ]
  },
  {
   "cell_type": "code",
   "execution_count": null,
   "id": "24461d0e",
   "metadata": {},
   "outputs": [],
   "source": [
    "# Each iteration is 1 ps\n",
    "for iter in range(1000,4001,1000):\n",
    "    bias_data = np.loadtxt(\"./Exercise-1/targetdist.ves.log.iter-{0}.data\".format(iter))\n",
    "    plt.plot(bias_data[:,0],bias_data[:,1],label=\"{0} ps\".format(iter))\n",
    "    plt.xlabel(\"Na-Cl distance [nm]\")\n",
    "    plt.ylabel(\"Negative Logarithm of Target Distribution [kBT]\")\n",
    "    plt.legend()\n",
    "    plt.title(\"Negative Logarithm of Target Distribution\")\n",
    "    plt.ylim([0,2.5])"
   ]
  },
  {
   "cell_type": "markdown",
   "id": "1bd298cd",
   "metadata": {},
   "source": [
    "The negative logarithm of the target distribution is the effective that we are sampling on. As we are using a well-tempered target distribution with a bias factor of 10, this should be an effective FES where the barriers have been reduced by a factor of 10. As we can see in the FES figure above, the barrier is around 5 kBT, while in this figure the effective barriers are around 0.5 kBT so this matches."
   ]
  },
  {
   "cell_type": "markdown",
   "id": "4483c3af",
   "metadata": {},
   "source": [
    "## Exercise 2 - Reweighthing"
   ]
  },
  {
   "cell_type": "markdown",
   "id": "d4d0f4c8",
   "metadata": {},
   "source": [
    "### Behaviour of bias potential and weights\n",
    "First we should look at the time series of the bias potential and corresponding weights to check how much we should trim from the beginning of the colvar file"
   ]
  },
  {
   "cell_type": "code",
   "execution_count": null,
   "id": "246def6c",
   "metadata": {},
   "outputs": [],
   "source": [
    "colvar_data = np.loadtxt(\"./Exercise-1/colvar.data\")\n",
    "time = colvar_data[:,0]\n",
    "distance = colvar_data[:,1]\n",
    "bias = colvar_data[:,3]\n",
    "# the colvar file is outputted every 0.25 ps, only plot every 1.0 ps\n",
    "plt.plot(time[::4],bias[::4],'-')\n",
    "plt.xlabel(\"Time [ps]\")\n",
    "plt.ylabel(\"Bias [kJ/mol]\")"
   ]
  },
  {
   "cell_type": "code",
   "execution_count": null,
   "id": "db7d8198",
   "metadata": {},
   "outputs": [],
   "source": [
    "weight = np.exp(bias-np.max(bias))\n",
    "plt.plot(time[::1],weight[::1],'-')\n",
    "plt.xlabel(\"Time [ps]\")\n",
    "plt.ylabel(\"Weight\")"
   ]
  },
  {
   "cell_type": "code",
   "execution_count": null,
   "id": "06897295",
   "metadata": {},
   "outputs": [],
   "source": [
    "plt.plot(distance[::1],weight[::1],'.')\n",
    "plt.xlabel(\"Na-Cl distance\")\n",
    "plt.ylabel(\"Weight\")"
   ]
  },
  {
   "cell_type": "markdown",
   "id": "543ee4f9",
   "metadata": {},
   "source": [
    "Based on this, we should trim the first 500-1000 ps from the colvar file"
   ]
  },
  {
   "cell_type": "markdown",
   "id": "a3a875f3",
   "metadata": {},
   "source": [
    "### Reweighthing on Na-Cl distance"
   ]
  },
  {
   "cell_type": "code",
   "execution_count": null,
   "id": "4f761d32",
   "metadata": {},
   "outputs": [],
   "source": [
    "%%bash\n",
    "cat ./Exercise-2/plumed_reweight.dat"
   ]
  },
  {
   "cell_type": "code",
   "execution_count": null,
   "id": "8d55500e",
   "metadata": {},
   "outputs": [],
   "source": [
    "os.chdir(home_dir)\n",
    "os.chdir(\"./Exercise-2\")\n",
    "for i in range(0,1001,200):\n",
    "    os.system(\"./trim-colvar-file.py --colvar-file ../Exercise-1/colvar.data --output-file colvar_reweight.data --time-min {0} &> /dev/null \".format(i))\n",
    "    os.system(\"plumed driver --plumed plumed_reweight.dat --noatoms &> /dev/null \")\n",
    "    fes_data=np.loadtxt(\"fes-reweight.dist.data\")\n",
    "    plt.plot(fes_data[:,0],fes_data[:,1]/kBT,label=\"Trim {} ps\".format(i))\n",
    "    plt.xlabel(\"Na-Cl distance [nm]\")  \n",
    "    plt.ylabel(\"Free Energy [kBT]\")\n",
    "    plt.title(\"Reweighted FES\")\n",
    "    plt.legend()\n",
    "    os.system(\"rm -f fes-reweight.dist.data\")\n",
    "    os.system(\"rm -f colvar_reweight.data\")\n",
    "    plt.ylim([0,18])\n",
    "os.chdir(home_dir)\n"
   ]
  },
  {
   "cell_type": "code",
   "execution_count": null,
   "id": "ed1152c4",
   "metadata": {},
   "outputs": [],
   "source": [
    "os.chdir(home_dir)\n",
    "os.chdir(\"./Exercise-2\")\n",
    "os.system(\"rm -f bck*.fes-reweight.dist.data\")\n",
    "os.system(\"rm -f fes-reweight.dist.data\")\n",
    "trim_time=\"500\"\n",
    "os.system(\"./trim-colvar-file.py --colvar-file ../Exercise-1/colvar.data --output-file colvar_reweight.data --time-min {0} &> /dev/null \".format(trim_time))\n",
    "os.system(\"plumed driver --plumed plumed_reweight.dat --noatoms &> /dev/null \")\n",
    "os.chdir(home_dir)\n"
   ]
  },
  {
   "cell_type": "markdown",
   "id": "e0ccf46b",
   "metadata": {},
   "source": [
    "### Comparing FES directly from bias potential and from reweighting"
   ]
  },
  {
   "cell_type": "code",
   "execution_count": null,
   "id": "5b5fb5db",
   "metadata": {},
   "outputs": [],
   "source": [
    "last_iter=4000\n",
    "fes_data = np.loadtxt(\"./Exercise-1/fes.ves.iter-{0}.data\".format(last_iter))\n",
    "plt.plot(fes_data[:,0],fes_data[:,1]/kBT,label=\"FES from bias\")\n",
    "\n",
    "fes_rew_data = np.loadtxt(\"./Exercise-2/fes-reweight.dist.data\")\n",
    "plt.plot(fes_rew_data[:,0],fes_rew_data[:,1]/kBT,label=\"FES from reweighting \")\n",
    "\n",
    "plt.xlabel(\"Na-Cl distance [nm]\")\n",
    "plt.ylabel(\"Free Energy [kBT]\")\n",
    "plt.legend()\n",
    "plt.title(\"FES from bias and reweighting\")\n",
    "plt.ylim([0,15])"
   ]
  },
  {
   "cell_type": "markdown",
   "id": "f8e6fc80",
   "metadata": {},
   "source": [
    "### Smoothing using kernel density estimation"
   ]
  },
  {
   "cell_type": "code",
   "execution_count": null,
   "id": "203b17f5",
   "metadata": {},
   "outputs": [],
   "source": [
    "%%bash\n",
    "cd Exercise-2/\n",
    "cat << EOF > plumed_reweight.kde.dat \n",
    "# vim:ft=plumed\n",
    "\n",
    "dist:   READ FILE=colvar_reweight.data IGNORE_TIME VALUES=dist\n",
    "coord:  READ FILE=colvar_reweight.data IGNORE_TIME VALUES=coord\n",
    "ves:    READ FILE=colvar_reweight.data IGNORE_TIME VALUES=ves.bias\n",
    "\n",
    "weights: REWEIGHT_BIAS TEMP=300 ARG=ves.bias\n",
    "\n",
    "HISTOGRAM ...\n",
    "  ARG=dist\n",
    "  GRID_MIN=0.2\n",
    "  GRID_MAX=0.9\n",
    "  GRID_BIN=200\n",
    "  BANDWIDTH=0.004\n",
    "  LOGWEIGHTS=weights\n",
    "  LABEL=hg_dist\n",
    "... HISTOGRAM\n",
    "\n",
    "fes_dist: CONVERT_TO_FES GRID=hg_dist TEMP=300 MINTOZERO\n",
    "DUMPGRID GRID=fes_dist FILE=fes-reweight.kde.dist.data FMT=%24.16e\n",
    "EOF\n",
    "\n",
    "plumed driver --plumed plumed_reweight.kde.dat --noatoms &> /dev/null\n",
    "rm -f bck.*.fes-reweight.kde.dist.data\n",
    "ls \n",
    "\n",
    "cd .."
   ]
  },
  {
   "cell_type": "code",
   "execution_count": null,
   "id": "dc535144",
   "metadata": {},
   "outputs": [],
   "source": [
    "last_iter=4000\n",
    "fes_data = np.loadtxt(\"./Exercise-1/fes.ves.iter-{0}.data\".format(last_iter))\n",
    "plt.plot(fes_data[:,0],fes_data[:,1]/kBT,label=\"FES from bias\")\n",
    "\n",
    "fes_rew_data = np.loadtxt(\"./Exercise-2/fes-reweight.dist.data\")\n",
    "plt.plot(fes_rew_data[:,0],fes_rew_data[:,1]/kBT,label=\"FES from reweighting \")\n",
    "\n",
    "fes_rew_kde_data = np.loadtxt(\"./Exercise-2/fes-reweight.kde.dist.data\")\n",
    "plt.plot(fes_rew_kde_data[:,0],fes_rew_kde_data[:,1]/kBT,label=\"FES from reweighting - KDE\")\n",
    "\n",
    "plt.xlabel(\"Na-Cl distance [nm]\")\n",
    "plt.ylabel(\"Free Energy [kBT]\")\n",
    "plt.legend()\n",
    "plt.title(\"FES from bias and reweighting\")\n",
    "plt.ylim([0,15])"
   ]
  },
  {
   "cell_type": "markdown",
   "id": "9c45f934",
   "metadata": {},
   "source": [
    "### Reweighthing on Na-Cl distance and solvation CV"
   ]
  },
  {
   "cell_type": "code",
   "execution_count": null,
   "id": "46704189",
   "metadata": {},
   "outputs": [],
   "source": [
    "%%bash\n",
    "cd Exercise-2/\n",
    "cat << EOF > plumed_reweight.2D.dat \n",
    "# vim:ft=plumed\n",
    "\n",
    "dist:   READ FILE=colvar_reweight.data IGNORE_TIME VALUES=dist\n",
    "coord:  READ FILE=colvar_reweight.data IGNORE_TIME VALUES=coord\n",
    "ves:    READ FILE=colvar_reweight.data IGNORE_TIME VALUES=ves.bias\n",
    "\n",
    "weights: REWEIGHT_BIAS TEMP=300 ARG=ves.bias\n",
    "\n",
    "HISTOGRAM ...\n",
    "  ARG=dist,coord\n",
    "  GRID_MIN=0.2,2.5\n",
    "  GRID_MAX=0.9,7.5\n",
    "  GRID_BIN=200,200\n",
    "  BANDWIDTH=0.004,0.04\n",
    "  LOGWEIGHTS=weights\n",
    "  LABEL=hg_dist_coord\n",
    "... HISTOGRAM\n",
    "\n",
    "fes_dist_coord: CONVERT_TO_FES GRID=hg_dist_coord TEMP=300 MINTOZERO\n",
    "DUMPGRID GRID=fes_dist_coord FILE=fes-reweight.dist-coord.data FMT=%24.16e\n",
    "EOF\n",
    "\n",
    "plumed driver --plumed plumed_reweight.2D.dat --noatoms &> /dev/null\n",
    "rm -f bck.*.fes-reweight.dist-coord.data\n",
    "ls \n",
    "\n",
    "cd .."
   ]
  },
  {
   "cell_type": "code",
   "execution_count": null,
   "id": "697bb788",
   "metadata": {},
   "outputs": [],
   "source": [
    "fes_data = np.loadtxt(\"./Exercise-2/fes-reweight.dist-coord.data\")\n",
    "distance = fes_data[:,0].reshape(201,201)\n",
    "coord =    fes_data[:,1].reshape(201,201)\n",
    "fes_2d =   fes_data[:,2].reshape(201,201)\n",
    "from matplotlib import cm\n",
    "plt.contourf(distance,coord,fes_2d/kBT, levels=np.linspace(0,10,101), cmap=cm.jet)\n",
    "plt.xlabel(\"Na-Cl distance [nm]\")\n",
    "plt.ylabel(\"Solvation of Na\")\n",
    "plt.title(\"FES - Reweighting\")\n",
    "plt.colorbar(label=\"Free Energy [kBT]\", ticks=range(0,11))"
   ]
  },
  {
   "cell_type": "markdown",
   "id": "c87b7767",
   "metadata": {},
   "source": [
    "## Exercise 3 - Another independent simulation (biasing the distance)\n"
   ]
  },
  {
   "cell_type": "code",
   "execution_count": null,
   "id": "cdcae930",
   "metadata": {},
   "outputs": [],
   "source": [
    "colvar_data = np.loadtxt(\"./Exercise-3/colvar.data\")\n",
    "time = colvar_data[:,0]\n",
    "distance = colvar_data[:,1]\n",
    "coord = colvar_data[:,2]\n",
    "# the colvar file is outputted every 0.25 ps, only plot every 1.0 ps\n",
    "plt.plot(time[::4],distance[::4],'-')\n",
    "plt.xlabel(\"Time [ps]\")\n",
    "plt.ylabel(\"Na-Cl distance [nm]\")\n",
    "plt.ylim([0.2,0.7])"
   ]
  },
  {
   "cell_type": "code",
   "execution_count": null,
   "id": "6b1a575a",
   "metadata": {},
   "outputs": [],
   "source": [
    "colvar_data = np.loadtxt(\"./Exercise-3/colvar.data\")\n",
    "time = colvar_data[:,0]\n",
    "distance = colvar_data[:,1]\n",
    "coord = colvar_data[:,2]\n",
    "# the colvar file is outputted every 0.25 ps, only plot every 1.0 ps\n",
    "plt.plot(time[::4],distance[::4],'-',label=\"Run 1\")\n",
    "plt.xlabel(\"Time [ps]\")\n",
    "plt.ylabel(\"Na-Cl distance [nm]\")\n",
    "plt.ylim([0.2,0.7])\n",
    "\n",
    "colvar_data = np.loadtxt(\"./Exercise-1/colvar.data\")\n",
    "time = colvar_data[:,0]\n",
    "distance = colvar_data[:,1]\n",
    "coord = colvar_data[:,2]\n",
    "plt.plot(time[::4],distance[::4],'--',label=\"Run 2\")\n",
    "plt.legend()"
   ]
  },
  {
   "cell_type": "code",
   "execution_count": null,
   "id": "a2660963",
   "metadata": {},
   "outputs": [],
   "source": [
    "# Each iteration is 1 ps\n",
    "for iter in range(500,4001,500):\n",
    "    fes_data = np.loadtxt(\"./Exercise-3/fes.ves.iter-{0}.data\".format(iter))\n",
    "    plt.plot(fes_data[:,0],fes_data[:,1]/kBT,label=\"{0} ps\".format(iter))\n",
    "    plt.xlabel(\"Na-Cl distance [nm]\")\n",
    "    plt.ylabel(\"Free Energy [kBT]\")\n",
    "    plt.legend()\n",
    "    plt.title(\"Free Energy Surface\")\n",
    "    plt.ylim([0,10])"
   ]
  },
  {
   "cell_type": "code",
   "execution_count": null,
   "id": "0a753871",
   "metadata": {},
   "outputs": [],
   "source": [
    "# Each iteration is 1 ps\n",
    "for iter in range(3000,4001,100):\n",
    "    fes_data = np.loadtxt(\"./Exercise-3/fes.ves.iter-{0}.data\".format(iter))\n",
    "    plt.plot(fes_data[:,0],fes_data[:,1]/kBT,label=\"{0} ps\".format(iter))\n",
    "    plt.xlabel(\"Na-Cl distance [nm]\")\n",
    "    plt.ylabel(\"Free Energy [kBT]\")\n",
    "    plt.legend()\n",
    "    plt.title(\"Free Energy Surface\")\n",
    "    plt.ylim([0,10])"
   ]
  },
  {
   "cell_type": "code",
   "execution_count": null,
   "id": "d13d6782",
   "metadata": {},
   "outputs": [],
   "source": [
    "last_iter=4000\n",
    "\n",
    "fes_data = np.loadtxt(\"./Exercise-1/fes.ves.iter-{0}.data\".format(last_iter))\n",
    "plt.plot(fes_data[:,0],fes_data[:,1]/kBT,label=\"Run 1\")\n",
    "\n",
    "fes_data = np.loadtxt(\"./Exercise-3/fes.ves.iter-{0}.data\".format(last_iter))\n",
    "plt.plot(fes_data[:,0],fes_data[:,1]/kBT,label=\"Run 2\")\n",
    "\n",
    "\n",
    "plt.xlabel(\"Na-Cl distance [nm]\")\n",
    "plt.ylabel(\"Free Energy [kBT]\")\n",
    "plt.legend()\n",
    "plt.title(\"FES from two different independent runs\")\n",
    "plt.ylim([0,15])"
   ]
  },
  {
   "cell_type": "code",
   "execution_count": null,
   "id": "6a18edd4",
   "metadata": {},
   "outputs": [],
   "source": [
    "%%bash\n",
    "cd Exercise-3/\n",
    "cat << EOF > plumed_reweight.kde.dat \n",
    "# vim:ft=plumed\n",
    "\n",
    "dist:   READ FILE=colvar_reweight.data IGNORE_TIME VALUES=dist\n",
    "coord:  READ FILE=colvar_reweight.data IGNORE_TIME VALUES=coord\n",
    "ves:    READ FILE=colvar_reweight.data IGNORE_TIME VALUES=ves.bias\n",
    "\n",
    "weights: REWEIGHT_BIAS TEMP=300 ARG=ves.bias\n",
    "\n",
    "HISTOGRAM ...\n",
    "  ARG=dist\n",
    "  GRID_MIN=0.2\n",
    "  GRID_MAX=0.9\n",
    "  GRID_BIN=200\n",
    "  BANDWIDTH=0.004\n",
    "  LOGWEIGHTS=weights\n",
    "  LABEL=hg_dist\n",
    "... HISTOGRAM\n",
    "\n",
    "fes_dist: CONVERT_TO_FES GRID=hg_dist TEMP=300 MINTOZERO\n",
    "DUMPGRID GRID=fes_dist FILE=fes-reweight.kde.dist.data FMT=%24.16e\n",
    "EOF\n",
    "\n",
    "trim_time=500 \n",
    "../Exercise-2/trim-colvar-file.py --colvar-file ./colvar.data --output-file colvar_reweight.data --time-min ${trim_time} &> /dev/null\n",
    "\n",
    "plumed driver --plumed plumed_reweight.kde.dat --noatoms &> /dev/null\n",
    "rm -f bck.*.fes-reweight.kde.dist.data\n",
    "\n",
    "\n",
    "cd .."
   ]
  },
  {
   "cell_type": "code",
   "execution_count": null,
   "id": "e3ca806a",
   "metadata": {},
   "outputs": [],
   "source": [
    "last_iter=4000\n",
    "\n",
    "\n",
    "fes_data = np.loadtxt(\"./Exercise-1/fes.ves.iter-{0}.data\".format(last_iter))\n",
    "plt.plot(fes_data[:,0],fes_data[:,1]/kBT,label=\"Run 1 - Bias\")\n",
    "\n",
    "fes_data = np.loadtxt(\"./Exercise-2/fes-reweight.kde.dist.data\")\n",
    "plt.plot(fes_data[:,0],fes_data[:,1]/kBT,label=\"Run 1 - Reweight\",linestyle='--')\n",
    "\n",
    "fes_data = np.loadtxt(\"./Exercise-3/fes.ves.iter-{0}.data\".format(last_iter))\n",
    "plt.plot(fes_data[:,0],fes_data[:,1]/kBT,label=\"Run 2 - Bias\")\n",
    "\n",
    "fes_data = np.loadtxt(\"./Exercise-3/fes-reweight.kde.dist.data\")\n",
    "plt.plot(fes_data[:,0],fes_data[:,1]/kBT,label=\"Run 2 - Reweight\",linestyle='--')\n",
    "\n",
    "plt.xlabel(\"Na-Cl distance [nm]\")\n",
    "plt.ylabel(\"Free Energy [kBT]\")\n",
    "plt.legend()\n",
    "plt.title(\"FES from two different independent runs\")\n",
    "plt.ylim([0,15])"
   ]
  },
  {
   "cell_type": "code",
   "execution_count": null,
   "id": "27567e22",
   "metadata": {},
   "outputs": [],
   "source": [
    "iteration_ex3=[]\n",
    "free_energy_difference_ex3=[]\n",
    "\n",
    "for iter in range(100,4001,100):\n",
    "    iteration_ex3.append(iter)\n",
    "    fes_filename=\"./Exercise-3/fes.ves.iter-{0}.data\".format(iter)\n",
    "    fe_diff = calc_free_energy_difference(fes_filename)\n",
    "    free_energy_difference_ex3.append(fe_diff)\n",
    "\n",
    "plt.plot(iteration_ex1,free_energy_difference_ex1,label=\"Run 1 (Ex 1)\")\n",
    "plt.plot(iteration_ex3,free_energy_difference_ex3,label=\"Run 2 (Ex 3)\")\n",
    "plt.xlabel(\"Time [ps]\")\n",
    "plt.ylabel(\"Free Energy Difference [kBT]\")\n",
    "plt.title(\"Free Energy Difference\")\n",
    "plt.ylim([-2.0,2.0])\n",
    "plt.legend()"
   ]
  },
  {
   "cell_type": "markdown",
   "id": "f28ef11d",
   "metadata": {},
   "source": [
    "## Exercise 4 - Biasing with two CVs"
   ]
  },
  {
   "cell_type": "code",
   "execution_count": null,
   "id": "ef2a674a",
   "metadata": {},
   "outputs": [],
   "source": [
    "colvar_data = np.loadtxt(\"./Exercise-4/colvar.data\")\n",
    "time = colvar_data[:,0]\n",
    "distance = colvar_data[:,1]\n",
    "coord = colvar_data[:,2]\n",
    "# the colvar file is outputted every 0.25 ps, only plot every 1.0 ps\n",
    "plt.plot(time[::4],distance[::4],'-')\n",
    "plt.xlabel(\"Time [ps]\")\n",
    "plt.ylabel(\"Na-Cl distance [nm]\")\n",
    "plt.ylim([0.2,0.7])"
   ]
  },
  {
   "cell_type": "code",
   "execution_count": null,
   "id": "a366839a",
   "metadata": {},
   "outputs": [],
   "source": [
    "plt.plot(time[::4],coord[::4],'-')\n",
    "plt.xlabel(\"Time [ps]\")\n",
    "plt.ylabel(\"solvation of Na\")"
   ]
  },
  {
   "cell_type": "code",
   "execution_count": null,
   "id": "221ca7b8",
   "metadata": {},
   "outputs": [],
   "source": [
    "colvar_data = np.loadtxt(\"./Exercise-4/colvar.data\")\n",
    "time = colvar_data[:,0]\n",
    "distance = colvar_data[:,1]\n",
    "coord = colvar_data[:,2]\n",
    "plt.plot(time[::4],coord[::4],'-',label=\"Biasing distance/solvation\")\n",
    "\n",
    "colvar_data = np.loadtxt(\"./Exercise-1/colvar.data\")\n",
    "time = colvar_data[:,0]\n",
    "distance = colvar_data[:,1]\n",
    "coord = colvar_data[:,2]\n",
    "plt.plot(time[::4],coord[::4],'-',label=\"Biasing distance\")\n",
    "\n",
    "plt.xlabel(\"Time [ps]\")\n",
    "plt.ylabel(\"solvation of Na\")\n",
    "plt.legend()\n"
   ]
  },
  {
   "cell_type": "code",
   "execution_count": null,
   "id": "cac43c26",
   "metadata": {},
   "outputs": [],
   "source": [
    "colvar_data = np.loadtxt(\"./Exercise-4/colvar.data\")\n",
    "time = colvar_data[:,0]\n",
    "distance = colvar_data[:,1]\n",
    "coord = colvar_data[:,2]\n",
    "plt.plot(distance[::4],coord[::4],'.',label=\"Biasing distance/solvation\")\n",
    "\n",
    "colvar_data = np.loadtxt(\"./Exercise-1/colvar.data\")\n",
    "time = colvar_data[:,0]\n",
    "distance = colvar_data[:,1]\n",
    "coord = colvar_data[:,2]\n",
    "plt.plot(distance[::4],coord[::4],'.',label=\"Biasing distance\")\n",
    "\n",
    "plt.xlabel(\"Na-Cl distance [nm]\")\n",
    "plt.ylabel(\"solvation of Na\")\n",
    "plt.legend()"
   ]
  },
  {
   "cell_type": "code",
   "execution_count": null,
   "id": "2871203f",
   "metadata": {},
   "outputs": [],
   "source": [
    "# Each iteration is 1 ps\n",
    "for iter in range(500,4001,500):\n",
    "    fes_data = np.loadtxt(\"./Exercise-4/fes.ves.proj-1.iter-{0}.data\".format(iter))\n",
    "    plt.plot(fes_data[:,0],fes_data[:,1]/kBT,label=\"{0} ps\".format(iter))\n",
    "    plt.xlabel(\"Na-Cl distance [nm]\")\n",
    "    plt.ylabel(\"Free Energy [kBT]\")\n",
    "    plt.legend()\n",
    "    plt.title(\"Free Energy Surface\")\n",
    "    plt.ylim([0,10])"
   ]
  },
  {
   "cell_type": "code",
   "execution_count": null,
   "id": "1067ccaf",
   "metadata": {},
   "outputs": [],
   "source": [
    "# Each iteration is 1 ps\n",
    "for iter in range(3000,4001,100):\n",
    "    fes_data = np.loadtxt(\"./Exercise-4/fes.ves.proj-1.iter-{0}.data\".format(iter))\n",
    "    plt.plot(fes_data[:,0],fes_data[:,1]/kBT,label=\"{0} ps\".format(iter))\n",
    "    plt.xlabel(\"Na-Cl distance [nm]\")\n",
    "    plt.ylabel(\"Free Energy [kBT]\")\n",
    "    plt.legend()\n",
    "    plt.title(\"Free Energy Surface\")\n",
    "    plt.ylim([0,10])"
   ]
  },
  {
   "cell_type": "code",
   "execution_count": null,
   "id": "b572085c",
   "metadata": {},
   "outputs": [],
   "source": [
    "# Each iteration is 1 ps\n",
    "for iter in range(3000,4001,100):\n",
    "    fes_data = np.loadtxt(\"./Exercise-4/fes.ves.proj-2.iter-{0}.data\".format(iter))\n",
    "    plt.plot(fes_data[:,0],fes_data[:,1]/kBT,label=\"{0} ps\".format(iter))\n",
    "    plt.xlabel(\"Solvation of Na\")\n",
    "    plt.ylabel(\"Free Energy [kBT]\")\n",
    "    plt.legend()\n",
    "    plt.title(\"Free Energy Surface\")\n",
    "    plt.ylim([0,6])"
   ]
  },
  {
   "cell_type": "code",
   "execution_count": null,
   "id": "3292289c",
   "metadata": {},
   "outputs": [],
   "source": [
    "last_iter=4000\n",
    "\n",
    "fes_data = np.loadtxt(\"./Exercise-1/fes.ves.iter-{0}.data\".format(last_iter))\n",
    "plt.plot(fes_data[:,0],fes_data[:,1]/kBT,label=\"Run 1 - Biasing distance\")\n",
    "\n",
    "fes_data = np.loadtxt(\"./Exercise-3/fes.ves.iter-{0}.data\".format(last_iter))\n",
    "plt.plot(fes_data[:,0],fes_data[:,1]/kBT,label=\"Run 2 - Biasing distance\")\n",
    "\n",
    "fes_data = np.loadtxt(\"./Exercise-4/fes.ves.proj-1.iter-{0}.data\".format(last_iter))\n",
    "plt.plot(fes_data[:,0],fes_data[:,1]/kBT,label=\"Run 3 - Biasing distance/solvation\")\n",
    "\n",
    "\n",
    "plt.xlabel(\"Na-Cl distance [nm]\")\n",
    "plt.ylabel(\"Free Energy [kBT]\")\n",
    "plt.legend()\n",
    "plt.title(\"FES from different runs\")\n",
    "plt.ylim([0,10])"
   ]
  },
  {
   "cell_type": "code",
   "execution_count": null,
   "id": "33a56752",
   "metadata": {},
   "outputs": [],
   "source": [
    "%%bash\n",
    "cd Exercise-4/\n",
    "cat << EOF > plumed_reweight.kde.dat \n",
    "# vim:ft=plumed\n",
    "\n",
    "dist:   READ FILE=colvar_reweight.data IGNORE_TIME VALUES=dist\n",
    "coord:  READ FILE=colvar_reweight.data IGNORE_TIME VALUES=coord\n",
    "ves:    READ FILE=colvar_reweight.data IGNORE_TIME VALUES=ves.bias\n",
    "\n",
    "weights: REWEIGHT_BIAS TEMP=300 ARG=ves.bias\n",
    "\n",
    "HISTOGRAM ...\n",
    "  ARG=dist\n",
    "  GRID_MIN=0.2\n",
    "  GRID_MAX=0.9\n",
    "  GRID_BIN=200\n",
    "  BANDWIDTH=0.004\n",
    "  LOGWEIGHTS=weights\n",
    "  LABEL=hg_dist\n",
    "... HISTOGRAM\n",
    "\n",
    "fes_dist: CONVERT_TO_FES GRID=hg_dist TEMP=300 MINTOZERO\n",
    "DUMPGRID GRID=fes_dist FILE=fes-reweight.kde.dist.data FMT=%24.16e\n",
    "EOF\n",
    "\n",
    "trim_time=500 \n",
    "../Exercise-2/trim-colvar-file.py --colvar-file ./colvar.data --output-file colvar_reweight.data --time-min ${trim_time} &> /dev/null\n",
    "\n",
    "plumed driver --plumed plumed_reweight.kde.dat --noatoms &> /dev/null\n",
    "rm -f bck.*.fes-reweight.kde.dist.data\n",
    "\n",
    "\n",
    "cd .."
   ]
  },
  {
   "cell_type": "code",
   "execution_count": null,
   "id": "8b46caaa",
   "metadata": {},
   "outputs": [],
   "source": [
    "last_iter=4000\n",
    "\n",
    "fes_data = np.loadtxt(\"./Exercise-1/fes.ves.iter-{0}.data\".format(last_iter))\n",
    "plt.plot(fes_data[:,0],fes_data[:,1]/kBT,label=\"Run 1 - Biasing distance\")\n",
    "\n",
    "fes_data = np.loadtxt(\"./Exercise-2/fes-reweight.kde.dist.data\")\n",
    "plt.plot(fes_data[:,0],fes_data[:,1]/kBT,label=\"Run 1 - Reweight\",linestyle='--')\n",
    "\n",
    "fes_data = np.loadtxt(\"./Exercise-3/fes.ves.iter-{0}.data\".format(last_iter))\n",
    "plt.plot(fes_data[:,0],fes_data[:,1]/kBT,label=\"Run 2 - Biasing distance\")\n",
    "\n",
    "fes_data = np.loadtxt(\"./Exercise-3/fes-reweight.kde.dist.data\")\n",
    "plt.plot(fes_data[:,0],fes_data[:,1]/kBT,label=\"Run 2 - Reweight\",linestyle='--')\n",
    "\n",
    "fes_data = np.loadtxt(\"./Exercise-4/fes.ves.proj-1.iter-{0}.data\".format(last_iter))\n",
    "plt.plot(fes_data[:,0],fes_data[:,1]/kBT,label=\"Run 3 - Biasing distance/solvation\")\n",
    "\n",
    "fes_data = np.loadtxt(\"./Exercise-4/fes-reweight.kde.dist.data\")\n",
    "plt.plot(fes_data[:,0],fes_data[:,1]/kBT,label=\"Run 3 - Reweight\",linestyle='--')\n",
    "\n",
    "plt.xlabel(\"Na-Cl distance [nm]\")\n",
    "plt.ylabel(\"Free Energy [kBT]\")\n",
    "plt.legend()\n",
    "plt.title(\"FES from different runs\")\n",
    "plt.ylim([0,10])"
   ]
  },
  {
   "cell_type": "code",
   "execution_count": null,
   "id": "670d8533",
   "metadata": {},
   "outputs": [],
   "source": [
    "iteration_ex4=[]\n",
    "free_energy_difference_ex4=[]\n",
    "\n",
    "for iter in range(100,4001,100):\n",
    "    iteration_ex4.append(iter)\n",
    "    fes_filename=\"./Exercise-4/fes.ves.proj-1.iter-{0}.data\".format(iter)\n",
    "    fe_diff = calc_free_energy_difference(fes_filename)\n",
    "    free_energy_difference_ex4.append(fe_diff)\n",
    "\n",
    "plt.plot(iteration_ex1,free_energy_difference_ex1,label=\"Run 1 (Ex 1)\")\n",
    "plt.plot(iteration_ex3,free_energy_difference_ex3,label=\"Run 2 (Ex 3)\")\n",
    "plt.plot(iteration_ex4,free_energy_difference_ex4,label=\"Run 3 (Ex 4)\")\n",
    "plt.xlabel(\"Time [ps]\")\n",
    "plt.ylabel(\"Free Energy Difference [kBT]\")\n",
    "plt.title(\"Free Energy Difference\")\n",
    "plt.ylim([-2.0,2.0])\n",
    "plt.legend()"
   ]
  },
  {
   "cell_type": "code",
   "execution_count": null,
   "id": "ad32c375",
   "metadata": {},
   "outputs": [],
   "source": [
    "last_iter=4000\n",
    "fes_data = np.loadtxt(\"./Exercise-4/fes.ves.iter-{0}.data\".format(last_iter))\n",
    "distance = fes_data[:,0].reshape(301,301)\n",
    "coord =    fes_data[:,1].reshape(301,301)\n",
    "fes_2d =   fes_data[:,2].reshape(301,301)\n",
    "from matplotlib import cm\n",
    "plt.contourf(distance,coord,fes_2d/kBT, levels=np.linspace(0,7,71), cmap=cm.jet)\n",
    "plt.xlabel(\"Na-Cl distance [nm]\")\n",
    "plt.ylabel(\"Solvation of Na\")\n",
    "plt.title(\"FES - Biasing distance and solvation CVs\")\n",
    "plt.colorbar(label=\"Free Energy [kBT]\", ticks=range(0,8))"
   ]
  },
  {
   "cell_type": "code",
   "execution_count": null,
   "id": "955447e2",
   "metadata": {},
   "outputs": [],
   "source": [
    "for iter in range(1000,4001,1000):\n",
    "    fes_data = np.loadtxt(\"./Exercise-4/fes.ves.iter-{0}.data\".format(iter))\n",
    "    distance = fes_data[:,0].reshape(301,301)\n",
    "    coord =    fes_data[:,1].reshape(301,301)\n",
    "    fes_2d =   fes_data[:,2].reshape(301,301)\n",
    "    from matplotlib import cm\n",
    "    plt.contourf(distance,coord,fes_2d/kBT, levels=np.linspace(0,7,71), cmap=cm.jet)\n",
    "    plt.xlabel(\"Na-Cl distance [nm]\")\n",
    "    plt.ylabel(\"Solvation of Na\")\n",
    "    plt.title(\"FES - Iteration {0}\".format(iter))\n",
    "    plt.colorbar(label=\"Free Energy [kBT]\", ticks=range(0,8))\n",
    "    plt.show()"
   ]
  },
  {
   "cell_type": "markdown",
   "id": "55cf1f6b",
   "metadata": {},
   "source": [
    "## Exercise 6 - Uniform target distribution"
   ]
  },
  {
   "cell_type": "code",
   "execution_count": null,
   "id": "c3c41e7f",
   "metadata": {},
   "outputs": [],
   "source": [
    "colvar_data = np.loadtxt(\"./Exercise-6/colvar.data\")\n",
    "time = colvar_data[:,0]\n",
    "distance = colvar_data[:,1]\n",
    "coord = colvar_data[:,2]\n",
    "# the colvar file is outputted every 0.25 ps, only plot every 1.0 ps\n",
    "plt.plot(time[::4],distance[::4],'-',label=\"Uniform target distribution\")\n",
    "plt.xlabel(\"Time [ps]\")\n",
    "plt.ylabel(\"Na-Cl distance [nm]\")\n",
    "plt.ylim([0.2,0.7])\n",
    "\n",
    "colvar_data = np.loadtxt(\"./Exercise-1/colvar.data\")\n",
    "time = colvar_data[:,0]\n",
    "distance = colvar_data[:,1]\n",
    "coord = colvar_data[:,2]\n",
    "plt.plot(time[::4],distance[::4],'--',label=\"Well-tempered target distribution\")\n",
    "plt.legend()"
   ]
  },
  {
   "cell_type": "code",
   "execution_count": null,
   "id": "e48b5147",
   "metadata": {},
   "outputs": [],
   "source": [
    "# Each iteration is 1 ps\n",
    "for iter in range(500,4001,500):\n",
    "    fes_data = np.loadtxt(\"./Exercise-6/fes.ves.iter-{0}.data\".format(iter))\n",
    "    plt.plot(fes_data[:,0],fes_data[:,1]/kBT,label=\"{0} ps\".format(iter))\n",
    "    plt.xlabel(\"Na-Cl distance [nm]\")\n",
    "    plt.ylabel(\"Free Energy [kBT]\")\n",
    "    plt.legend()\n",
    "    plt.title(\"Free Energy Surface\")\n",
    "    plt.ylim([0,10])"
   ]
  },
  {
   "cell_type": "code",
   "execution_count": null,
   "id": "8cc7e8d5",
   "metadata": {},
   "outputs": [],
   "source": [
    "# Each iteration is 1 ps\n",
    "for iter in range(3000,4001,100):\n",
    "    fes_data = np.loadtxt(\"./Exercise-6/fes.ves.iter-{0}.data\".format(iter))\n",
    "    plt.plot(fes_data[:,0],fes_data[:,1]/kBT,label=\"{0} ps\".format(iter))\n",
    "    plt.xlabel(\"Na-Cl distance [nm]\")\n",
    "    plt.ylabel(\"Free Energy [kBT]\")\n",
    "    plt.legend()\n",
    "    plt.title(\"Free Energy Surface\")\n",
    "    plt.ylim([0,10])"
   ]
  },
  {
   "cell_type": "code",
   "execution_count": null,
   "id": "6ff35fb0",
   "metadata": {},
   "outputs": [],
   "source": [
    "%%bash\n",
    "cd Exercise-6/\n",
    "cat << EOF > plumed_reweight.kde.dat \n",
    "# vim:ft=plumed\n",
    "\n",
    "dist:   READ FILE=colvar_reweight.data IGNORE_TIME VALUES=dist\n",
    "coord:  READ FILE=colvar_reweight.data IGNORE_TIME VALUES=coord\n",
    "ves:    READ FILE=colvar_reweight.data IGNORE_TIME VALUES=ves.bias\n",
    "\n",
    "weights: REWEIGHT_BIAS TEMP=300 ARG=ves.bias\n",
    "\n",
    "HISTOGRAM ...\n",
    "  ARG=dist\n",
    "  GRID_MIN=0.2\n",
    "  GRID_MAX=0.9\n",
    "  GRID_BIN=200\n",
    "  BANDWIDTH=0.004\n",
    "  LOGWEIGHTS=weights\n",
    "  LABEL=hg_dist\n",
    "... HISTOGRAM\n",
    "\n",
    "fes_dist: CONVERT_TO_FES GRID=hg_dist TEMP=300 MINTOZERO\n",
    "DUMPGRID GRID=fes_dist FILE=fes-reweight.kde.dist.data FMT=%24.16e\n",
    "EOF\n",
    "\n",
    "trim_time=500 \n",
    "../Exercise-2/trim-colvar-file.py --colvar-file ./colvar.data --output-file colvar_reweight.data --time-min ${trim_time} &> /dev/null\n",
    "\n",
    "plumed driver --plumed plumed_reweight.kde.dat --noatoms &> /dev/null\n",
    "rm -f bck.*.fes-reweight.kde.dist.data\n",
    "\n",
    "\n",
    "cd .."
   ]
  },
  {
   "cell_type": "code",
   "execution_count": null,
   "id": "53f67367",
   "metadata": {
    "scrolled": false
   },
   "outputs": [],
   "source": [
    "last_iter=4000\n",
    "\n",
    "fes_data = np.loadtxt(\"./Exercise-1/fes.ves.iter-{0}.data\".format(last_iter))\n",
    "plt.plot(fes_data[:,0],fes_data[:,1]/kBT,label=\"Run 1 - Well-Tempered\")\n",
    "\n",
    "fes_data = np.loadtxt(\"./Exercise-2/fes-reweight.kde.dist.data\")\n",
    "plt.plot(fes_data[:,0],fes_data[:,1]/kBT,label=\"Run 1 - Reweight\",linestyle='--')\n",
    "\n",
    "fes_data = np.loadtxt(\"./Exercise-6/fes.ves.iter-{0}.data\".format(last_iter))\n",
    "plt.plot(fes_data[:,0],fes_data[:,1]/kBT,label=\"Run 4 - Uniform\")\n",
    "\n",
    "fes_data = np.loadtxt(\"./Exercise-6/fes-reweight.kde.dist.data\")\n",
    "plt.plot(fes_data[:,0],fes_data[:,1]/kBT,label=\"Run 4 - Reweight\",linestyle='--')\n",
    "\n",
    "\n",
    "\n",
    "plt.xlabel(\"Na-Cl distance [nm]\")\n",
    "plt.ylabel(\"Free Energy [kBT]\")\n",
    "plt.legend()\n",
    "plt.title(\"FES from different runs\")\n",
    "plt.ylim([0,10])"
   ]
  },
  {
   "cell_type": "code",
   "execution_count": null,
   "id": "0710526d",
   "metadata": {},
   "outputs": [],
   "source": [
    "iteration_ex6=[]\n",
    "free_energy_difference_ex6=[]\n",
    "\n",
    "for iter in range(100,4001,100):\n",
    "    iteration_ex6.append(iter)\n",
    "    fes_filename=\"./Exercise-6/fes.ves.iter-{0}.data\".format(iter)\n",
    "    fe_diff = calc_free_energy_difference(fes_filename)\n",
    "    free_energy_difference_ex6.append(fe_diff)\n",
    "\n",
    "plt.plot(iteration_ex1,free_energy_difference_ex1,label=\"Run 1 (Ex 1)\")\n",
    "plt.plot(iteration_ex3,free_energy_difference_ex3,label=\"Run 2 (Ex 3)\")\n",
    "plt.plot(iteration_ex4,free_energy_difference_ex4,label=\"Run 3 (Ex 4)\")\n",
    "plt.plot(iteration_ex6,free_energy_difference_ex6,label=\"Run 4 (Ex 6)\")\n",
    "plt.xlabel(\"Time [ps]\")\n",
    "plt.ylabel(\"Free Energy Difference [kBT]\")\n",
    "plt.title(\"Free Energy Difference\")\n",
    "plt.ylim([-2.0,2.0])\n",
    "plt.legend()"
   ]
  },
  {
   "cell_type": "markdown",
   "id": "56a1e8bb",
   "metadata": {},
   "source": [
    "## Exercise 7 - Legendre Polynomials\n"
   ]
  },
  {
   "cell_type": "code",
   "execution_count": null,
   "id": "f5d3372b",
   "metadata": {},
   "outputs": [],
   "source": [
    "colvar_data = np.loadtxt(\"./Exercise-7/colvar.data\")\n",
    "time = colvar_data[:,0]\n",
    "distance = colvar_data[:,1]\n",
    "coord = colvar_data[:,2]\n",
    "# the colvar file is outputted every 0.25 ps, only plot every 1.0 ps\n",
    "plt.plot(time[::4],distance[::4],'-',label=\"Legendre Basis Functions\")\n",
    "plt.xlabel(\"Time [ps]\")\n",
    "plt.ylabel(\"Na-Cl distance [nm]\")\n",
    "plt.ylim([0.2,0.7])\n",
    "\n",
    "colvar_data = np.loadtxt(\"./Exercise-1/colvar.data\")\n",
    "time = colvar_data[:,0]\n",
    "distance = colvar_data[:,1]\n",
    "coord = colvar_data[:,2]\n",
    "plt.plot(time[::4],distance[::4],'--',label=\"Wavelet Basis Functions\")\n",
    "plt.legend()"
   ]
  },
  {
   "cell_type": "code",
   "execution_count": null,
   "id": "3c729fac",
   "metadata": {},
   "outputs": [],
   "source": [
    "# Each iteration is 1 ps\n",
    "for iter in range(500,4001,500):\n",
    "    fes_data = np.loadtxt(\"./Exercise-7/fes.ves.iter-{0}.data\".format(iter))\n",
    "    plt.plot(fes_data[:,0],fes_data[:,1]/kBT,label=\"{0} ps\".format(iter))\n",
    "    plt.xlabel(\"Na-Cl distance [nm]\")\n",
    "    plt.ylabel(\"Free Energy [kBT]\")\n",
    "    plt.legend()\n",
    "    plt.title(\"Free Energy Surface\")\n",
    "    plt.ylim([0,10])"
   ]
  },
  {
   "cell_type": "code",
   "execution_count": null,
   "id": "09bfce45",
   "metadata": {},
   "outputs": [],
   "source": [
    "# Each iteration is 1 ps\n",
    "for iter in range(3000,4001,100):\n",
    "    fes_data = np.loadtxt(\"./Exercise-7/fes.ves.iter-{0}.data\".format(iter))\n",
    "    plt.plot(fes_data[:,0],fes_data[:,1]/kBT,label=\"{0} ps\".format(iter))\n",
    "    plt.xlabel(\"Na-Cl distance [nm]\")\n",
    "    plt.ylabel(\"Free Energy [kBT]\")\n",
    "    plt.legend()\n",
    "    plt.title(\"Free Energy Surface\")\n",
    "    plt.ylim([0,10])"
   ]
  },
  {
   "cell_type": "code",
   "execution_count": null,
   "id": "46642dc2",
   "metadata": {},
   "outputs": [],
   "source": [
    "%%bash\n",
    "cd Exercise-7/\n",
    "cat << EOF > plumed_reweight.kde.dat \n",
    "# vim:ft=plumed\n",
    "\n",
    "dist:   READ FILE=colvar_reweight.data IGNORE_TIME VALUES=dist\n",
    "coord:  READ FILE=colvar_reweight.data IGNORE_TIME VALUES=coord\n",
    "ves:    READ FILE=colvar_reweight.data IGNORE_TIME VALUES=ves.bias\n",
    "\n",
    "weights: REWEIGHT_BIAS TEMP=300 ARG=ves.bias\n",
    "\n",
    "HISTOGRAM ...\n",
    "  ARG=dist\n",
    "  GRID_MIN=0.2\n",
    "  GRID_MAX=0.9\n",
    "  GRID_BIN=200\n",
    "  BANDWIDTH=0.004\n",
    "  LOGWEIGHTS=weights\n",
    "  LABEL=hg_dist\n",
    "... HISTOGRAM\n",
    "\n",
    "fes_dist: CONVERT_TO_FES GRID=hg_dist TEMP=300 MINTOZERO\n",
    "DUMPGRID GRID=fes_dist FILE=fes-reweight.kde.dist.data FMT=%24.16e\n",
    "EOF\n",
    "\n",
    "trim_time=500 \n",
    "../Exercise-2/trim-colvar-file.py --colvar-file ./colvar.data --output-file colvar_reweight.data --time-min ${trim_time} &> /dev/null\n",
    "\n",
    "plumed driver --plumed plumed_reweight.kde.dat --noatoms &> /dev/null\n",
    "rm -f bck.*.fes-reweight.kde.dist.data\n",
    "\n",
    "\n",
    "cd .."
   ]
  },
  {
   "cell_type": "code",
   "execution_count": null,
   "id": "8931006c",
   "metadata": {
    "scrolled": false
   },
   "outputs": [],
   "source": [
    "last_iter=4000\n",
    "\n",
    "fes_data = np.loadtxt(\"./Exercise-1/fes.ves.iter-{0}.data\".format(last_iter))\n",
    "plt.plot(fes_data[:,0],fes_data[:,1]/kBT,label=\"Run 1 - Wavelet BF\")\n",
    "\n",
    "fes_data = np.loadtxt(\"./Exercise-2/fes-reweight.kde.dist.data\")\n",
    "plt.plot(fes_data[:,0],fes_data[:,1]/kBT,label=\"Run 1 - Reweight\",linestyle='--')\n",
    "\n",
    "fes_data = np.loadtxt(\"./Exercise-7/fes.ves.iter-{0}.data\".format(last_iter))\n",
    "plt.plot(fes_data[:,0],fes_data[:,1]/kBT,label=\"Run 5 - Legendre BF\")\n",
    "\n",
    "fes_data = np.loadtxt(\"./Exercise-7/fes-reweight.kde.dist.data\")\n",
    "plt.plot(fes_data[:,0],fes_data[:,1]/kBT,label=\"Run 5 - Reweight\",linestyle='--')\n",
    "\n",
    "\n",
    "\n",
    "plt.xlabel(\"Na-Cl distance [nm]\")\n",
    "plt.ylabel(\"Free Energy [kBT]\")\n",
    "plt.legend()\n",
    "plt.title(\"FES from different runs\")\n",
    "plt.ylim([0,10])"
   ]
  },
  {
   "cell_type": "code",
   "execution_count": null,
   "id": "03ea3b28",
   "metadata": {},
   "outputs": [],
   "source": [
    "iteration_ex7=[]\n",
    "free_energy_difference_ex7=[]\n",
    "\n",
    "for iter in range(100,4001,100):\n",
    "    iteration_ex7.append(iter)\n",
    "    fes_filename=\"./Exercise-7/fes.ves.iter-{0}.data\".format(iter)\n",
    "    fe_diff = calc_free_energy_difference(fes_filename)\n",
    "    free_energy_difference_ex7.append(fe_diff)\n",
    "\n",
    "plt.plot(iteration_ex1,free_energy_difference_ex1,label=\"Run 1 (Ex 1)\")\n",
    "plt.plot(iteration_ex3,free_energy_difference_ex3,label=\"Run 2 (Ex 3)\")\n",
    "plt.plot(iteration_ex4,free_energy_difference_ex4,label=\"Run 3 (Ex 4)\")\n",
    "plt.plot(iteration_ex6,free_energy_difference_ex6,label=\"Run 4 (Ex 6)\")\n",
    "plt.plot(iteration_ex7,free_energy_difference_ex7,label=\"Run 5 (Ex 7)\")\n",
    "plt.xlabel(\"Time [ps]\")\n",
    "plt.ylabel(\"Free Energy Difference [kBT]\")\n",
    "plt.title(\"Free Energy Difference\")\n",
    "plt.ylim([-2.0,2.0])\n",
    "plt.legend()"
   ]
  },
  {
   "cell_type": "code",
   "execution_count": null,
   "id": "5c7da880",
   "metadata": {},
   "outputs": [],
   "source": []
  }
 ],
 "metadata": {
  "kernelspec": {
   "display_name": "Python 3 (ipykernel)",
   "language": "python",
   "name": "python3"
  },
  "language_info": {
   "codemirror_mode": {
    "name": "ipython",
    "version": 3
   },
   "file_extension": ".py",
   "mimetype": "text/x-python",
   "name": "python",
   "nbconvert_exporter": "python",
   "pygments_lexer": "ipython3",
   "version": "3.10.5"
  }
 },
 "nbformat": 4,
 "nbformat_minor": 5
}
